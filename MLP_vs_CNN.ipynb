{
 "cells": [
  {
   "cell_type": "markdown",
   "metadata": {},
   "source": [
    "### MLP vs CNN\n",
    "#### By MMA"
   ]
  },
  {
   "cell_type": "markdown",
   "metadata": {},
   "source": [
    "### Fully connected MLP with MNIST"
   ]
  },
  {
   "cell_type": "code",
   "execution_count": 1,
   "metadata": {
    "collapsed": true
   },
   "outputs": [],
   "source": [
    "import tensorflow as tf"
   ]
  },
  {
   "cell_type": "code",
   "execution_count": 3,
   "metadata": {},
   "outputs": [
    {
     "name": "stdout",
     "output_type": "stream",
     "text": [
      "Extracting MNIST_data/train-images-idx3-ubyte.gz\n"
     ]
    },
    {
     "name": "stdout",
     "output_type": "stream",
     "text": [
      "Extracting MNIST_data/train-labels-idx1-ubyte.gz\nExtracting MNIST_data/t10k-images-idx3-ubyte.gz\nExtracting MNIST_data/t10k-labels-idx1-ubyte.gz\n"
     ]
    },
    {
     "name": "stdout",
     "output_type": "stream",
     "text": [
      "<class 'numpy.ndarray'>\n"
     ]
    }
   ],
   "source": [
    "from tensorflow.examples.tutorials.mnist import input_data\n",
    "mnist = input_data.read_data_sets(\"MNIST_data/\", one_hot=True)"
   ]
  },
  {
   "cell_type": "code",
   "execution_count": 4,
   "metadata": {},
   "outputs": [],
   "source": [
    "LEARNING_RATE = 0.01\n",
    "EPOCHS = 1000\n",
    "BATCH_SIZE = 64"
   ]
  },
  {
   "cell_type": "code",
   "execution_count": 5,
   "metadata": {},
   "outputs": [],
   "source": [
    "x = tf.placeholder(dtype=tf.float32, shape=(None, 784), name=\"input\")\n",
    "y = tf.placeholder(dtype=tf.float32, shape=(None, 10), name=\"label\")"
   ]
  },
  {
   "cell_type": "code",
   "execution_count": 6,
   "metadata": {},
   "outputs": [],
   "source": [
    "with tf.name_scope(name=\"Hidden_layer_1\"):\n",
    "    w1 = tf.Variable(tf.truncated_normal([784, 500], 0, 0.1), name=\"W\")\n",
    "    b1 = tf.Variable(tf.zeros([500]), name=\"B\")\n",
    "\n",
    "    hidden_layer1_input = tf.matmul(x, w1) + b1\n",
    "    relu1 = tf.nn.relu(hidden_layer1_input)"
   ]
  },
  {
   "cell_type": "code",
   "execution_count": 7,
   "metadata": {},
   "outputs": [],
   "source": [
    "with tf.name_scope(name=\"Hidden_layer_2\"):\n",
    "    w2 = tf.Variable(tf.truncated_normal([500, 500], 0, 0.1), name=\"W\")\n",
    "    b2 = tf.Variable(tf.zeros([500]), name=\"B\")\n",
    "\n",
    "    hidden_layer2_input = tf.matmul(relu1, w2) + b2\n",
    "    relu2 = tf.nn.relu(hidden_layer2_input)"
   ]
  },
  {
   "cell_type": "code",
   "execution_count": 8,
   "metadata": {},
   "outputs": [],
   "source": [
    "with tf.name_scope(\"output_layer\"):\n",
    "    w3 = tf.Variable(tf.truncated_normal([500, 10], 0, 0.1), name=\"W\")\n",
    "    b3 = tf.Variable(tf.zeros([10]), name=\"B\")\n",
    "\n",
    "    output_layer_input = tf.matmul(relu2, w3) + b3\n",
    "    output = tf.nn.softmax(output_layer_input)"
   ]
  },
  {
   "cell_type": "markdown",
   "metadata": {},
   "source": [
    "##### Cross Entropy, Loss Function, Accuaracy, etc."
   ]
  },
  {
   "cell_type": "code",
   "execution_count": 10,
   "metadata": {
    "collapsed": false
   },
   "outputs": [],
   "source": [
    "with tf.name_scope(\"xent\"):\n",
    "    cross_entropy = tf.reduce_mean(tf.nn.softmax_cross_entropy_with_logits(labels=y, logits=output))\n",
    "\n",
    "with tf.name_scope(\"train\"):\n",
    "    optimizer = tf.train.GradientDescentOptimizer(LEARNING_RATE).minimize(cross_entropy)\n",
    "\n",
    "with tf.name_scope(\"accuracy\"):\n",
    "    correct_prediction = tf.equal(tf.argmax(output, 1), tf.argmax(y, 1))\n",
    "    accuracy_op = tf.reduce_mean(tf.cast(correct_prediction, dtype=tf.float32), name=\"accuracy\")\n"
   ]
  },
  {
   "cell_type": "code",
   "execution_count": 11,
   "metadata": {},
   "outputs": [],
   "source": [
    "tf.summary.scalar(\"Cross_Entropy\", cross_entropy)\n",
    "tf.summary.scalar(\"accuracy_train\", accuracy_op)\n",
    "\n",
    "merge = tf.summary.merge_all()\n",
    "filewriter = tf.summary.FileWriter(\"./graphs\")"
   ]
  },
  {
   "cell_type": "markdown",
   "metadata": {},
   "source": [
    "##### Session Run "
   ]
  },
  {
   "cell_type": "code",
   "execution_count": 12,
   "metadata": {},
   "outputs": [],
   "source": [
    "sess = tf.Session()\n",
    "filewriter.add_graph(sess.graph)\n",
    "\n",
    "sess.run(tf.global_variables_initializer())"
   ]
  },
  {
   "cell_type": "markdown",
   "metadata": {},
   "source": [
    "##### Learning"
   ]
  },
  {
   "cell_type": "code",
   "execution_count": 13,
   "metadata": {},
   "outputs": [],
   "source": [
    "acc_val = tf.summary.scalar(\"accuracy_validation\", accuracy_op)\n",
    "for i in range(EPOCHS):\n",
    "    batch_xs, batch_ys = mnist.train.next_batch(BATCH_SIZE)\n",
    "    sess.run(optimizer, feed_dict={x: batch_xs, y: batch_ys})\n",
    "    if i % 50 == 0:\n",
    "        b = (sess.run(merge, feed_dict={x: batch_xs, y: batch_ys}))\n",
    "        filewriter.add_summary(b, i)\n",
    "        \n",
    "        batch_xs_v, batch_ys_v = mnist.validation.next_batch(BATCH_SIZE)\n",
    "        b = (sess.run(acc_val, feed_dict={x: batch_xs_v, y: batch_ys_v}))\n",
    "        filewriter.add_summary(b, i)"
   ]
  },
  {
   "cell_type": "code",
   "execution_count": 14,
   "metadata": {},
   "outputs": [
    {
     "name": "stdout",
     "output_type": "stream",
     "text": [
      "\nThe accuracy of test:0.6505\n"
     ]
    }
   ],
   "source": [
    "print(\"\")\n",
    "yyy = sess.run(output, feed_dict={x: mnist.test.images})\n",
    "[accuracy] = sess.run([accuracy_op], feed_dict={output: yyy, y: mnist.test.labels})\n",
    "print(\"The accuracy of test:\" + str(accuracy))"
   ]
  },
  {
   "cell_type": "code",
   "execution_count": 15,
   "metadata": {},
   "outputs": [],
   "source": [
    "sess.close()\n",
    "filewriter.close()"
   ]
  },
  {
   "cell_type": "code",
   "execution_count": null,
   "metadata": {},
   "outputs": [],
   "source": []
  }
 ],
 "metadata": {
  "kernelspec": {
   "display_name": "Python 2",
   "language": "python",
   "name": "python2"
  },
  "language_info": {
   "codemirror_mode": {
    "name": "ipython",
    "version": 2
   },
   "file_extension": ".py",
   "mimetype": "text/x-python",
   "name": "python",
   "nbconvert_exporter": "python",
   "pygments_lexer": "ipython2",
   "version": "2.7.6"
  }
 },
 "nbformat": 4,
 "nbformat_minor": 0
}
