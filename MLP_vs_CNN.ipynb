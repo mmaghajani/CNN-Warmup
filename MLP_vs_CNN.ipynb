{
 "cells": [
  {
   "cell_type": "markdown",
   "metadata": {},
   "source": [
    "### MLP vs CNN\n",
    "#### By MMA"
   ]
  },
  {
   "cell_type": "markdown",
   "metadata": {},
   "source": [
    "### Fully connected MLP with MNIST"
   ]
  },
  {
   "cell_type": "code",
   "execution_count": 1,
   "metadata": {
    "collapsed": true
   },
   "outputs": [],
   "source": [
    "import tensorflow as tf"
   ]
  },
  {
   "cell_type": "code",
   "execution_count": 3,
   "metadata": {},
   "outputs": [
    {
     "name": "stdout",
     "output_type": "stream",
     "text": [
      "Extracting MNIST_data/train-images-idx3-ubyte.gz\n"
     ]
    },
    {
     "name": "stdout",
     "output_type": "stream",
     "text": [
      "Extracting MNIST_data/train-labels-idx1-ubyte.gz\nExtracting MNIST_data/t10k-images-idx3-ubyte.gz\nExtracting MNIST_data/t10k-labels-idx1-ubyte.gz\n"
     ]
    }
   ],
   "source": [
    "from tensorflow.examples.tutorials.mnist import input_data\n",
    "mnist = input_data.read_data_sets(\"MNIST_data/\", one_hot=True)"
   ]
  },
  {
   "cell_type": "code",
   "execution_count": 4,
   "metadata": {},
   "outputs": [],
   "source": [
    "LEARNING_RATE = 0.01\n",
    "EPOCHS = 1000\n",
    "BATCH_SIZE = 64"
   ]
  },
  {
   "cell_type": "code",
   "execution_count": 5,
   "metadata": {},
   "outputs": [],
   "source": [
    "x = tf.placeholder(dtype=tf.float32, shape=(None, 784), name=\"input\")\n",
    "y = tf.placeholder(dtype=tf.float32, shape=(None, 10), name=\"label\")"
   ]
  },
  {
   "cell_type": "code",
   "execution_count": 6,
   "metadata": {},
   "outputs": [],
   "source": [
    "with tf.name_scope(name=\"Hidden_layer_1\"):\n",
    "    w1 = tf.Variable(tf.truncated_normal([784, 500], 0, 0.1), name=\"W\")\n",
    "    b1 = tf.Variable(tf.zeros([500]), name=\"B\")\n",
    "\n",
    "    hidden_layer1_input = tf.matmul(x, w1) + b1\n",
    "    relu1 = tf.nn.relu(hidden_layer1_input)"
   ]
  },
  {
   "cell_type": "code",
   "execution_count": 7,
   "metadata": {},
   "outputs": [],
   "source": [
    "with tf.name_scope(name=\"Hidden_layer_2\"):\n",
    "    w2 = tf.Variable(tf.truncated_normal([500, 500], 0, 0.1), name=\"W\")\n",
    "    b2 = tf.Variable(tf.zeros([500]), name=\"B\")\n",
    "\n",
    "    hidden_layer2_input = tf.matmul(relu1, w2) + b2\n",
    "    relu2 = tf.nn.relu(hidden_layer2_input)"
   ]
  },
  {
   "cell_type": "code",
   "execution_count": 8,
   "metadata": {},
   "outputs": [],
   "source": [
    "with tf.name_scope(\"output_layer\"):\n",
    "    w3 = tf.Variable(tf.truncated_normal([500, 10], 0, 0.1), name=\"W\")\n",
    "    b3 = tf.Variable(tf.zeros([10]), name=\"B\")\n",
    "\n",
    "    output_layer_input = tf.matmul(relu2, w3) + b3\n",
    "    output = tf.nn.softmax(output_layer_input)"
   ]
  },
  {
   "cell_type": "markdown",
   "metadata": {},
   "source": [
    "##### Cross Entropy, Loss Function, Accuaracy, etc."
   ]
  },
  {
   "cell_type": "code",
   "execution_count": 10,
   "metadata": {
    "collapsed": false
   },
   "outputs": [],
   "source": [
    "with tf.name_scope(\"xent\"):\n",
    "    cross_entropy = tf.reduce_mean(tf.nn.softmax_cross_entropy_with_logits(labels=y, logits=output))\n",
    "\n",
    "with tf.name_scope(\"train\"):\n",
    "    optimizer = tf.train.GradientDescentOptimizer(LEARNING_RATE).minimize(cross_entropy)\n",
    "\n",
    "with tf.name_scope(\"accuracy\"):\n",
    "    correct_prediction = tf.equal(tf.argmax(output, 1), tf.argmax(y, 1))\n",
    "    accuracy_op = tf.reduce_mean(tf.cast(correct_prediction, dtype=tf.float32), name=\"accuracy\")\n"
   ]
  },
  {
   "cell_type": "code",
   "execution_count": 11,
   "metadata": {},
   "outputs": [],
   "source": [
    "loss_train_summary_op = tf.summary.scalar(\"Cross_Entropy\", cross_entropy)\n",
    "acc_train_summary_op = tf.summary.scalar(\"accuracy_train\", accuracy_op)\n",
    "\n",
    "acc_val_summary_op = tf.summary.scalar(\"accuracy_validation\", accuracy_op)\n",
    "loss_val_summary_op = tf.summary.scalar(\"Cross_Entropy_validation\", cross_entropy)\n",
    "\n",
    "filewriter = tf.summary.FileWriter(\"./graphs_fc\")"
   ]
  },
  {
   "cell_type": "markdown",
   "metadata": {},
   "source": [
    "##### Session Run "
   ]
  },
  {
   "cell_type": "code",
   "execution_count": 12,
   "metadata": {},
   "outputs": [],
   "source": [
    "sess_fc = tf.Session()\n",
    "filewriter.add_graph(sess_fc.graph)\n",
    "\n",
    "sess_fc.run(tf.global_variables_initializer())"
   ]
  },
  {
   "cell_type": "markdown",
   "metadata": {},
   "source": [
    "##### Learning"
   ]
  },
  {
   "cell_type": "code",
   "execution_count": 14,
   "metadata": {},
   "outputs": [],
   "source": [
    "for i in range(EPOCHS):\n",
    "    batch_xs, batch_ys = mnist.train.next_batch(BATCH_SIZE)\n",
    "    sess_fc.run(optimizer, feed_dict={x: batch_xs, y: batch_ys})\n",
    "    if i % 50 == 0:\n",
    "        b1, b2 = (sess_fc.run([loss_train_summary_op, acc_train_summary_op],\n",
    "                              feed_dict={x: batch_xs, y: batch_ys}))\n",
    "        filewriter.add_summary(b1, i)\n",
    "        filewriter.add_summary(b2, i)\n",
    "\n",
    "        batch_xs_v, batch_ys_v = mnist.validation.next_batch(BATCH_SIZE)\n",
    "        b1, b2 = (sess_fc.run([acc_val_summary_op, loss_val_summary_op],\n",
    "                              feed_dict={x: batch_xs_v, y: batch_ys_v}))\n",
    "        filewriter.add_summary(b1, i)\n",
    "        filewriter.add_summary(b2, i)\n"
   ]
  },
  {
   "cell_type": "code",
   "execution_count": 15,
   "metadata": {},
   "outputs": [
    {
     "name": "stdout",
     "output_type": "stream",
     "text": [
      "The accuracy of test:0.7047\n"
     ]
    }
   ],
   "source": [
    "yyy = sess_fc.run(output, feed_dict={x: mnist.test.images})\n",
    "[accuracy] = sess_fc.run([accuracy_op], feed_dict={output: yyy, y: mnist.test.labels})\n",
    "print(\"The accuracy of test:\" + str(accuracy))"
   ]
  },
  {
   "cell_type": "code",
   "execution_count": 16,
   "metadata": {},
   "outputs": [],
   "source": [
    "filewriter.close()"
   ]
  },
  {
   "cell_type": "markdown",
   "metadata": {},
   "source": [
    "### CNN with MNIST"
   ]
  },
  {
   "cell_type": "markdown",
   "metadata": {},
   "source": [
    "#### Learning parameters"
   ]
  },
  {
   "cell_type": "code",
   "execution_count": 17,
   "metadata": {},
   "outputs": [],
   "source": [
    "LEARNING_RATE = 0.001\n",
    "BATCH_SIZE = 128\n",
    "EPOCHS = 1000"
   ]
  },
  {
   "cell_type": "markdown",
   "metadata": {},
   "source": [
    "#### Network parameters"
   ]
  },
  {
   "cell_type": "code",
   "execution_count": 18,
   "metadata": {},
   "outputs": [],
   "source": [
    "num_inputs = 784 \n",
    "num_classes = 10"
   ]
  },
  {
   "cell_type": "markdown",
   "metadata": {},
   "source": [
    "#### Placeholders and dropout rate"
   ]
  },
  {
   "cell_type": "code",
   "execution_count": 19,
   "metadata": {},
   "outputs": [],
   "source": [
    "X = tf.placeholder(dtype=tf.float32, shape=(None, 784), name=\"Inputs\")\n",
    "Y = tf.placeholder(dtype=tf.float32, shape=(None, 10), name=\"Lables\")\n",
    "keep_prob = tf.placeholder(dtype=tf.float32) # DropOut ( Keep Probability )"
   ]
  },
  {
   "cell_type": "markdown",
   "metadata": {},
   "source": [
    "#### Creating some wrappers for convolution and pooling"
   ]
  },
  {
   "cell_type": "code",
   "execution_count": 20,
   "metadata": {},
   "outputs": [],
   "source": [
    "def conv2d(x, W, b, strides=1):\n",
    "    x = tf.nn.conv2d(x, W, strides=[1, strides, strides, 1], padding='SAME')\n",
    "    x = tf.nn.bias_add(x, b)\n",
    "    return tf.nn.relu(x)"
   ]
  },
  {
   "cell_type": "code",
   "execution_count": 21,
   "metadata": {},
   "outputs": [],
   "source": [
    "def maxPool2d(x, k=2):\n",
    "    return tf.nn.max_pool(x, ksize=[1, k, k, 1], strides=[1, k, k, 1], padding=\"SAME\")"
   ]
  },
  {
   "cell_type": "code",
   "execution_count": 22,
   "metadata": {},
   "outputs": [],
   "source": [
    "def conv_net(x, weights, biases, dropout):\n",
    "    x = tf.reshape(x, shape=[-1, 28, 28, 1])\n",
    "    # Layer One\n",
    "    conv1 = conv2d(x, weights['wc1'], biases['bc1'])\n",
    "    conv1 = maxPool2d(conv1, k=2)\n",
    "    # Layer Two\n",
    "    conv2 = conv2d(conv1, weights['wc2'], biases['bc2'])\n",
    "    conv2 = maxPool2d(conv2, k=2)\n",
    "    # Fully Connected Layer\n",
    "    fc1 = tf.reshape(conv2, [-1, weights['wd1'].get_shape().as_list()[0]])\n",
    "    fc1 = tf.add(tf.matmul(fc1, weights['wd1']), biases['bd1'])\n",
    "    fc1 = tf.nn.relu(fc1)\n",
    "    fc1 = tf.nn.dropout(fc1, dropout)\n",
    "    # Output\n",
    "    output = tf.add(tf.matmul(fc1, weights['output']), biases['output'])\n",
    "    return output"
   ]
  },
  {
   "cell_type": "markdown",
   "metadata": {},
   "source": [
    "#### Weights and Biases"
   ]
  },
  {
   "cell_type": "code",
   "execution_count": 23,
   "metadata": {},
   "outputs": [],
   "source": [
    "weights = {\n",
    "    # 5*5 conv, 1 input, 64 outputs\n",
    "    'wc1': tf.Variable(tf.random_normal([5, 5, 1, 64])),\n",
    "    # 5*5 conv, 64 input, 64 outputs\n",
    "    'wc2': tf.Variable(tf.random_normal([5, 5, 64, 64])),\n",
    "    # Fully Connected, 7*7*64 inputs, 1024 outputs\n",
    "    'wd1': tf.Variable(tf.random_normal([7 * 7 * 64, 500])),\n",
    "    # 500 inputs, 10 outputs ( Class Prediction )\n",
    "    'output': tf.Variable(tf.random_normal([500, num_classes]))\n",
    "}\n",
    "\n",
    "biases = {\n",
    "    'bc1': tf.Variable(tf.random_normal([64])),\n",
    "    'bc2': tf.Variable(tf.random_normal([64])),\n",
    "    'bd1': tf.Variable(tf.random_normal([500])),\n",
    "    'output': tf.Variable(tf.random_normal([num_classes])),\n",
    "}"
   ]
  },
  {
   "cell_type": "markdown",
   "metadata": {},
   "source": [
    "#### Model Construction"
   ]
  },
  {
   "cell_type": "code",
   "execution_count": 24,
   "metadata": {},
   "outputs": [],
   "source": [
    "logits = conv_net(X, weights, biases, keep_prob)\n",
    "prediction = tf.nn.softmax(logits)"
   ]
  },
  {
   "cell_type": "markdown",
   "metadata": {},
   "source": [
    "#### Define Loss and Optimizer"
   ]
  },
  {
   "cell_type": "code",
   "execution_count": 25,
   "metadata": {},
   "outputs": [],
   "source": [
    "loss_op = tf.reduce_mean(tf.nn.softmax_cross_entropy_with_logits_v2(logits=logits, labels=Y))\n",
    "optimizer = tf.train.AdamOptimizer(learning_rate=LEARNING_RATE)\n",
    "train_op = optimizer.minimize(loss_op)"
   ]
  },
  {
   "cell_type": "markdown",
   "metadata": {},
   "source": [
    "#### Evaluation"
   ]
  },
  {
   "cell_type": "code",
   "execution_count": 26,
   "metadata": {},
   "outputs": [],
   "source": [
    "CorrectPrediction = tf.equal(tf.argmax(prediction, 1), tf.argmax(Y, 1))\n",
    "accuracy_op = tf.reduce_mean(tf.cast(CorrectPrediction, tf.float32))"
   ]
  },
  {
   "cell_type": "code",
   "execution_count": 27,
   "metadata": {},
   "outputs": [],
   "source": [
    "loss_train_summary_op = tf.summary.scalar(\"Cross_Entropy_train\", loss_op)\n",
    "acc_train_summary_op = tf.summary.scalar(\"accuracy_train\", accuracy_op)\n",
    "\n",
    "acc_val_summary_op = tf.summary.scalar(\"accuracy_validation\", accuracy_op)\n",
    "loss_val_summary_op = tf.summary.scalar(\"Cross_Entropy_validation\", loss_op)\n",
    "\n",
    "filewriter = tf.summary.FileWriter(\"./graphs_cnn\")"
   ]
  },
  {
   "cell_type": "markdown",
   "metadata": {},
   "source": [
    "#### Session"
   ]
  },
  {
   "cell_type": "code",
   "execution_count": 29,
   "metadata": {},
   "outputs": [
    {
     "name": "stdout",
     "output_type": "stream",
     "text": [
      "0\n"
     ]
    },
    {
     "name": "stdout",
     "output_type": "stream",
     "text": [
      "50\n"
     ]
    },
    {
     "name": "stdout",
     "output_type": "stream",
     "text": [
      "100\n"
     ]
    },
    {
     "name": "stdout",
     "output_type": "stream",
     "text": [
      "150\n"
     ]
    },
    {
     "name": "stdout",
     "output_type": "stream",
     "text": [
      "200\n"
     ]
    },
    {
     "name": "stdout",
     "output_type": "stream",
     "text": [
      "250\n"
     ]
    },
    {
     "name": "stdout",
     "output_type": "stream",
     "text": [
      "300\n"
     ]
    },
    {
     "name": "stdout",
     "output_type": "stream",
     "text": [
      "350\n"
     ]
    },
    {
     "name": "stdout",
     "output_type": "stream",
     "text": [
      "400\n"
     ]
    },
    {
     "name": "stdout",
     "output_type": "stream",
     "text": [
      "450\n"
     ]
    },
    {
     "name": "stdout",
     "output_type": "stream",
     "text": [
      "500\n"
     ]
    },
    {
     "name": "stdout",
     "output_type": "stream",
     "text": [
      "550\n"
     ]
    },
    {
     "name": "stdout",
     "output_type": "stream",
     "text": [
      "600\n"
     ]
    },
    {
     "name": "stdout",
     "output_type": "stream",
     "text": [
      "650\n"
     ]
    },
    {
     "name": "stdout",
     "output_type": "stream",
     "text": [
      "700\n"
     ]
    },
    {
     "name": "stdout",
     "output_type": "stream",
     "text": [
      "750\n"
     ]
    },
    {
     "name": "stdout",
     "output_type": "stream",
     "text": [
      "800\n"
     ]
    },
    {
     "name": "stdout",
     "output_type": "stream",
     "text": [
      "850\n"
     ]
    },
    {
     "name": "stdout",
     "output_type": "stream",
     "text": [
      "900\n"
     ]
    },
    {
     "name": "stdout",
     "output_type": "stream",
     "text": [
      "950\n"
     ]
    }
   ],
   "source": [
    "sess_cnn = tf.Session()\n",
    "init = tf.global_variables_initializer()\n",
    "sess_cnn.run(init)\n",
    "for i in range(EPOCHS):\n",
    "    batch_xs, batch_ys = mnist.train.next_batch(BATCH_SIZE)\n",
    "    sess_cnn.run(train_op, feed_dict={X: batch_xs, Y: batch_ys, keep_prob: 0.8})\n",
    "    if i % 50 == 0:\n",
    "        print(i)\n",
    "        b1, b2 = (sess_cnn.run([loss_train_summary_op, acc_train_summary_op],\n",
    "                               feed_dict={X: batch_xs, Y: batch_ys, keep_prob: 1.0}))\n",
    "        filewriter.add_summary(b1, i)\n",
    "        filewriter.add_summary(b2, i)\n",
    "\n",
    "        batch_xs_v, batch_ys_v = mnist.validation.next_batch(BATCH_SIZE)\n",
    "        b1, b2 = (sess_cnn.run([acc_val_summary_op, loss_val_summary_op],\n",
    "                               feed_dict={X: batch_xs_v, Y: batch_ys_v, keep_prob: 1.0}))\n",
    "        filewriter.add_summary(b1, i)\n",
    "        filewriter.add_summary(b2, i)\n"
   ]
  },
  {
   "cell_type": "code",
   "execution_count": 30,
   "metadata": {},
   "outputs": [
    {
     "name": "stdout",
     "output_type": "stream",
     "text": [
      "The accuracy of test:0.984375\n"
     ]
    }
   ],
   "source": [
    "[accuracy] = sess_cnn.run([accuracy_op], feed_dict={X: mnist.test.images[:256],\n",
    "                                                    Y: mnist.test.labels[:256],\n",
    "                                                    keep_prob: 1.0})\n",
    "print(\"The accuracy of test:\" + str(accuracy))\n",
    "filewriter.close()"
   ]
  },
  {
   "cell_type": "markdown",
   "metadata": {},
   "source": [
    "## A Comparsion between CNN and fully connected network"
   ]
  },
  {
   "cell_type": "markdown",
   "metadata": {},
   "source": [
    "#### Accuracy in FC network was about 70% and in CNN was 98%."
   ]
  },
  {
   "cell_type": "markdown",
   "metadata": {},
   "source": [
    "#### Number of parameters"
   ]
  },
  {
   "cell_type": "code",
   "execution_count": 35,
   "metadata": {},
   "outputs": [
    {
     "name": "stdout",
     "output_type": "stream",
     "text": [
      "Number of parameters in FC network :  648010\n"
     ]
    }
   ],
   "source": [
    "print(\"Number of parameters in FC network : \",\n",
    "      w1.shape[0]*w1.shape[1] + w2.shape[0]*w2.shape[1] + w3.shape[0]*w3.shape[1] + \n",
    "      500 + 500 + 10)"
   ]
  },
  {
   "cell_type": "code",
   "execution_count": 41,
   "metadata": {},
   "outputs": [
    {
     "name": "stdout",
     "output_type": "stream",
     "text": [
      "Number of parameters in CNN :  1672628\n"
     ]
    }
   ],
   "source": [
    "print(\"Number of parameters in CNN : \",\n",
    "      weights['wc1'].shape[0]*weights['wc1'].shape[1]*weights['wc1'].shape[2]*weights['wc1'].shape[3]+\n",
    "      weights['wc2'].shape[0]*weights['wc2'].shape[1]*weights['wc2'].shape[2]*weights['wc2'].shape[3]+\n",
    "      weights['wd1'].shape[0]*weights['wd1'].shape[1] + 64 + 64 + 500\n",
    "      )\n"
   ]
  },
  {
   "cell_type": "code",
   "execution_count": null,
   "metadata": {},
   "outputs": [],
   "source": []
  }
 ],
 "metadata": {
  "kernelspec": {
   "display_name": "Python 2",
   "language": "python",
   "name": "python2"
  },
  "language_info": {
   "codemirror_mode": {
    "name": "ipython",
    "version": 2
   },
   "file_extension": ".py",
   "mimetype": "text/x-python",
   "name": "python",
   "nbconvert_exporter": "python",
   "pygments_lexer": "ipython2",
   "version": "2.7.6"
  }
 },
 "nbformat": 4,
 "nbformat_minor": 0
}
